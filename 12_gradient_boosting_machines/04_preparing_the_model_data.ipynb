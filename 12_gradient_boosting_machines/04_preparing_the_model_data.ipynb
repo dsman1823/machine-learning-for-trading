{
 "cells": [
  {
   "cell_type": "markdown",
   "metadata": {},
   "source": [
    "# Long-Short Strategy, Part 1: Preparing Alpha Factors and Features"
   ]
  },
  {
   "cell_type": "markdown",
   "metadata": {},
   "source": [
    "In this section, we'll start designing, implementing, and evaluating a trading strategy for US equities driven by daily return forecasts produced by gradient boosting models.\n",
    "\n",
    "As in the previous examples, we'll lay out a framework and build a specific example that you can adapt to run your own experiments. There are numerous aspects that you can vary, from the asset class and investment universe to more granular aspects like the features, holding period, or trading rules. See, for example, the **Alpha Factor Library** in the [Appendix](../24_alpha_factor_library) for numerous additional features.\n",
    "\n",
    "We'll keep the trading strategy simple and only use a single ML signal; a real-life application will likely use multiple signals from different sources, such as complementary ML models trained on different datasets or with different lookahead or lookback periods. It would also use sophisticated risk management, from simple stop-loss to value-at-risk analysis.\n",
    "\n",
    "**Six notebooks** cover our workflow sequence:\n",
    "\n",
    "1. `preparing_the_model_data` (this noteboook): we'll engineer a few simple features from the Quandl Wiki data \n",
    "2. [trading_signals_with_lightgbm_and_catboost](05_trading_signals_with_lightgbm_and_catboost.ipynb): we tune hyperparameters for LightGBM and CatBoost to select a model, using 2015/16 as our validation period. \n",
    "3. [evaluate_trading_signals](06_evaluate_trading_signals.ipynb): we compare the cross-validation performance using various metrics to select the best model. \n",
    "4. [model_interpretation](07_model_interpretation.ipynb): we take a closer look at the drivers behind the best model's predictions.\n",
    "5. [making_out_of_sample_predictions](08_making_out_of_sample_predictions.ipynb): we generate predictions for our out-of-sample test period 2017.\n",
    "6. [backtesting_with_zipline](09_backtesting_with_zipline.ipynb): evaluate the historical performance of a long-short strategy based on our predictive signals using Zipline."
   ]
  },
  {
   "cell_type": "markdown",
   "metadata": {},
   "source": [
    "## Imports & Settings"
   ]
  },
  {
   "cell_type": "code",
   "execution_count": 45,
   "metadata": {
    "ExecuteTime": {
     "end_time": "2021-02-25T02:25:40.960749Z",
     "start_time": "2021-02-25T02:25:40.958783Z"
    }
   },
   "outputs": [],
   "source": [
    "import warnings\n",
    "warnings.filterwarnings('ignore')"
   ]
  },
  {
   "cell_type": "code",
   "execution_count": 46,
   "metadata": {
    "ExecuteTime": {
     "end_time": "2021-02-25T02:25:41.685336Z",
     "start_time": "2021-02-25T02:25:40.966186Z"
    }
   },
   "outputs": [],
   "source": [
    "%matplotlib inline\n",
    "import numpy as np\n",
    "import pandas as pd\n",
    "import matplotlib.pyplot as plt\n",
    "import seaborn as sns\n",
    "import talib\n",
    "from talib import RSI, BBANDS, MACD, ATR"
   ]
  },
  {
   "cell_type": "code",
   "execution_count": 47,
   "metadata": {
    "ExecuteTime": {
     "end_time": "2021-02-25T02:25:41.689152Z",
     "start_time": "2021-02-25T02:25:41.686291Z"
    }
   },
   "outputs": [],
   "source": [
    "MONTH = 21\n",
    "YEAR = 12 * MONTH"
   ]
  },
  {
   "cell_type": "code",
   "execution_count": 48,
   "metadata": {
    "ExecuteTime": {
     "end_time": "2021-02-25T02:25:41.701014Z",
     "start_time": "2021-02-25T02:25:41.690760Z"
    }
   },
   "outputs": [],
   "source": [
    "START = '2010-01-01'\n",
    "END = '2017-12-31'"
   ]
  },
  {
   "cell_type": "code",
   "execution_count": 49,
   "metadata": {
    "ExecuteTime": {
     "end_time": "2021-02-25T02:25:41.710405Z",
     "start_time": "2021-02-25T02:25:41.702050Z"
    }
   },
   "outputs": [],
   "source": [
    "sns.set_style('darkgrid')\n",
    "idx = pd.IndexSlice"
   ]
  },
  {
   "cell_type": "code",
   "execution_count": 50,
   "metadata": {
    "ExecuteTime": {
     "end_time": "2021-02-25T02:25:41.719203Z",
     "start_time": "2021-02-25T02:25:41.711268Z"
    }
   },
   "outputs": [],
   "source": [
    "percentiles = [.001, .01, .02, .03, .04, .05]\n",
    "percentiles += [1-p for p in percentiles[::-1]]"
   ]
  },
  {
   "cell_type": "code",
   "execution_count": 51,
   "metadata": {
    "ExecuteTime": {
     "end_time": "2021-02-25T02:25:41.728454Z",
     "start_time": "2021-02-25T02:25:41.720239Z"
    }
   },
   "outputs": [],
   "source": [
    "T = [1, 5, 10, 21, 42, 63]"
   ]
  },
  {
   "cell_type": "markdown",
   "metadata": {},
   "source": [
    "## Loading Quandl Wiki Stock Prices & Meta Data"
   ]
  },
  {
   "cell_type": "code",
   "execution_count": 52,
   "metadata": {
    "ExecuteTime": {
     "end_time": "2021-02-25T02:25:49.504343Z",
     "start_time": "2021-02-25T02:25:41.730118Z"
    }
   },
   "outputs": [],
   "source": [
    "DATA_STORE = '../data/assets.h5'\n",
    "ohlcv = ['adj_open', 'adj_close', 'adj_low', 'adj_high', 'adj_volume']\n",
    "with pd.HDFStore(DATA_STORE) as store:\n",
    "    prices = (store['quandl/wiki/prices']\n",
    "              .loc[idx[START:END, :], ohlcv] # select OHLCV columns from 2010 until 2017\n",
    "              .rename(columns=lambda x: x.replace('adj_', '')) # simplify column names\n",
    "              .swaplevel()\n",
    "              .sort_index())\n",
    "    metadata = (store['us_equities/stocks'].loc[:, ['marketcap', 'sector']])"
   ]
  },
  {
   "cell_type": "code",
   "execution_count": 53,
   "metadata": {
    "ExecuteTime": {
     "end_time": "2021-02-25T02:25:49.543442Z",
     "start_time": "2021-02-25T02:25:49.505884Z"
    }
   },
   "outputs": [],
   "source": [
    "prices.volume /= 1e3 # make vol figures a bit smaller\n",
    "prices.index.names = ['symbol', 'date']\n",
    "metadata.index.name = 'symbol'"
   ]
  },
  {
   "cell_type": "markdown",
   "metadata": {},
   "source": [
    "## Remove stocks with insufficient observations"
   ]
  },
  {
   "cell_type": "markdown",
   "metadata": {},
   "source": [
    "We require at least 7 years of data; we simplify and select using both in- and out-of-sample period; please be aware that it would be more accurate to use only the training period to remove data to avoid lookahead bias."
   ]
  },
  {
   "cell_type": "code",
   "execution_count": 54,
   "metadata": {
    "ExecuteTime": {
     "end_time": "2021-02-25T02:29:17.109549Z",
     "start_time": "2021-02-25T02:25:49.544945Z"
    }
   },
   "outputs": [],
   "source": [
    "min_obs = 7 * YEAR\n",
    "nobs = prices.groupby(level='symbol').size()\n",
    "keep = nobs[nobs > min_obs].index\n",
    "prices = prices.loc[idx[keep, :], :]"
   ]
  },
  {
   "cell_type": "markdown",
   "metadata": {},
   "source": [
    "### Align price and meta data"
   ]
  },
  {
   "cell_type": "code",
   "execution_count": 55,
   "metadata": {
    "ExecuteTime": {
     "end_time": "2021-02-25T02:29:17.120202Z",
     "start_time": "2021-02-25T02:29:17.111416Z"
    }
   },
   "outputs": [],
   "source": [
    "metadata = metadata[~metadata.index.duplicated() & metadata.sector.notnull()]\n",
    "metadata.sector = metadata.sector.str.lower().str.replace(' ', '_')"
   ]
  },
  {
   "cell_type": "code",
   "execution_count": 56,
   "metadata": {
    "ExecuteTime": {
     "end_time": "2021-02-25T02:32:22.346966Z",
     "start_time": "2021-02-25T02:29:17.121545Z"
    }
   },
   "outputs": [],
   "source": [
    "shared = (prices.index.get_level_values('symbol').unique()\n",
    "          .intersection(metadata.index))\n",
    "metadata = metadata.loc[shared, :]\n",
    "prices = prices.loc[idx[shared, :], :]"
   ]
  },
  {
   "cell_type": "markdown",
   "metadata": {},
   "source": [
    "### Limit universe to 1,000 stocks with highest market cap"
   ]
  },
  {
   "cell_type": "markdown",
   "metadata": {},
   "source": [
    "Again, we simplify and use the entire sample period, not just the training period, to select our universe."
   ]
  },
  {
   "cell_type": "code",
   "execution_count": 57,
   "metadata": {
    "ExecuteTime": {
     "end_time": "2021-02-25T02:33:28.698764Z",
     "start_time": "2021-02-25T02:32:22.348061Z"
    }
   },
   "outputs": [],
   "source": [
    "universe = metadata.marketcap.nlargest(1000).index\n",
    "prices = prices.loc[idx[universe, :], :]\n",
    "metadata = metadata.loc[universe]"
   ]
  },
  {
   "cell_type": "code",
   "execution_count": 58,
   "metadata": {
    "ExecuteTime": {
     "end_time": "2021-02-25T02:33:28.712602Z",
     "start_time": "2021-02-25T02:33:28.699658Z"
    }
   },
   "outputs": [
    {
     "data": {
      "text/plain": [
       "consumer_services        187\n",
       "finance                  168\n",
       "technology               116\n",
       "health_care              103\n",
       "capital_goods             94\n",
       "basic_industries          67\n",
       "public_utilities          66\n",
       "consumer_non-durables     61\n",
       "energy                    51\n",
       "consumer_durables         36\n",
       "miscellaneous             28\n",
       "transportation            23\n",
       "Name: sector, dtype: int64"
      ]
     },
     "execution_count": 58,
     "metadata": {},
     "output_type": "execute_result"
    }
   ],
   "source": [
    "metadata.sector.value_counts()"
   ]
  },
  {
   "cell_type": "code",
   "execution_count": 59,
   "metadata": {
    "ExecuteTime": {
     "end_time": "2021-02-25T02:33:28.787555Z",
     "start_time": "2021-02-25T02:33:28.713711Z"
    }
   },
   "outputs": [
    {
     "name": "stdout",
     "output_type": "stream",
     "text": [
      "<class 'pandas.core.frame.DataFrame'>\n",
      "MultiIndex: 2004775 entries, ('AAPL', Timestamp('2010-01-04 00:00:00')) to ('NTCT', Timestamp('2017-12-29 00:00:00'))\n",
      "Data columns (total 5 columns):\n",
      " #   Column  Non-Null Count    Dtype  \n",
      "---  ------  --------------    -----  \n",
      " 0   open    2004775 non-null  float64\n",
      " 1   close   2004775 non-null  float64\n",
      " 2   low     2004775 non-null  float64\n",
      " 3   high    2004775 non-null  float64\n",
      " 4   volume  2004775 non-null  float64\n",
      "dtypes: float64(5)\n",
      "memory usage: 84.9+ MB\n"
     ]
    }
   ],
   "source": [
    "prices.info(show_counts=True)"
   ]
  },
  {
   "cell_type": "code",
   "execution_count": 60,
   "metadata": {
    "ExecuteTime": {
     "end_time": "2021-02-25T02:33:28.796905Z",
     "start_time": "2021-02-25T02:33:28.788498Z"
    },
    "scrolled": true
   },
   "outputs": [
    {
     "name": "stdout",
     "output_type": "stream",
     "text": [
      "<class 'pandas.core.frame.DataFrame'>\n",
      "Index: 1000 entries, AAPL to NTCT\n",
      "Data columns (total 2 columns):\n",
      " #   Column     Non-Null Count  Dtype  \n",
      "---  ------     --------------  -----  \n",
      " 0   marketcap  1000 non-null   float64\n",
      " 1   sector     1000 non-null   object \n",
      "dtypes: float64(1), object(1)\n",
      "memory usage: 23.4+ KB\n"
     ]
    }
   ],
   "source": [
    "metadata.info()"
   ]
  },
  {
   "cell_type": "markdown",
   "metadata": {},
   "source": [
    "### Rank assets by Rolling Average Dollar Volume"
   ]
  },
  {
   "cell_type": "markdown",
   "metadata": {},
   "source": [
    "#### Compute dollar volume"
   ]
  },
  {
   "cell_type": "code",
   "execution_count": 61,
   "metadata": {},
   "outputs": [],
   "source": [
    "prices['dollar_vol'] = prices[['close', 'volume']].prod(1).div(1e3)"
   ]
  },
  {
   "cell_type": "markdown",
   "metadata": {},
   "source": [
    "#### 21-day moving average"
   ]
  },
  {
   "cell_type": "code",
   "execution_count": 62,
   "metadata": {
    "ExecuteTime": {
     "end_time": "2021-02-25T02:33:36.748231Z",
     "start_time": "2021-02-25T02:33:28.797955Z"
    }
   },
   "outputs": [],
   "source": [
    "# compute dollar volume to determine universe\n",
    "dollar_vol_ma = (prices\n",
    "                 .dollar_vol\n",
    "                 .unstack('symbol')\n",
    "                 .rolling(window=21, min_periods=1) # 1 trading month\n",
    "                 .mean())"
   ]
  },
  {
   "cell_type": "markdown",
   "metadata": {},
   "source": [
    "#### Rank stocks by moving average"
   ]
  },
  {
   "cell_type": "code",
   "execution_count": 63,
   "metadata": {
    "ExecuteTime": {
     "end_time": "2021-02-25T02:33:36.992360Z",
     "start_time": "2021-02-25T02:33:36.750624Z"
    }
   },
   "outputs": [],
   "source": [
    "prices['dollar_vol_rank'] = (dollar_vol_ma\n",
    "                            .rank(axis=1, ascending=False)\n",
    "                            .stack('symbol')\n",
    "                            .swaplevel())"
   ]
  },
  {
   "cell_type": "code",
   "execution_count": 64,
   "metadata": {},
   "outputs": [
    {
     "name": "stdout",
     "output_type": "stream",
     "text": [
      "<class 'pandas.core.frame.DataFrame'>\n",
      "MultiIndex: 2004775 entries, ('AAPL', Timestamp('2010-01-04 00:00:00')) to ('NTCT', Timestamp('2017-12-29 00:00:00'))\n",
      "Data columns (total 7 columns):\n",
      " #   Column           Non-Null Count    Dtype  \n",
      "---  ------           --------------    -----  \n",
      " 0   open             2004775 non-null  float64\n",
      " 1   close            2004775 non-null  float64\n",
      " 2   low              2004775 non-null  float64\n",
      " 3   high             2004775 non-null  float64\n",
      " 4   volume           2004775 non-null  float64\n",
      " 5   dollar_vol       2004775 non-null  float64\n",
      " 6   dollar_vol_rank  2004775 non-null  float64\n",
      "dtypes: float64(7)\n",
      "memory usage: 115.5+ MB\n"
     ]
    }
   ],
   "source": [
    "prices.info(show_counts=True)"
   ]
  },
  {
   "cell_type": "markdown",
   "metadata": {},
   "source": [
    "## Add some Basic Factors"
   ]
  },
  {
   "cell_type": "markdown",
   "metadata": {},
   "source": [
    "See [appendix](../24_alpha_factor_library) for details on the below indicators."
   ]
  },
  {
   "cell_type": "markdown",
   "metadata": {},
   "source": [
    "### Compute the Relative Strength Index"
   ]
  },
  {
   "cell_type": "code",
   "execution_count": 65,
   "metadata": {
    "ExecuteTime": {
     "end_time": "2021-02-25T02:33:48.466650Z",
     "start_time": "2021-02-25T02:33:36.993227Z"
    }
   },
   "outputs": [],
   "source": [
    "prices['rsi'] = prices.groupby(level='symbol').close.apply(RSI)"
   ]
  },
  {
   "cell_type": "code",
   "execution_count": 66,
   "metadata": {
    "ExecuteTime": {
     "end_time": "2021-02-25T02:33:53.995183Z",
     "start_time": "2021-02-25T02:33:48.467651Z"
    }
   },
   "outputs": [
    {
     "data": {
      "image/png": "[encoded data removed]",
      "text/plain": [
       "<Figure size 432x288 with 1 Axes>"
      ]
     },
     "metadata": {},
     "output_type": "display_data"
    }
   ],
   "source": [
    "ax = sns.distplot(prices.rsi.dropna())\n",
    "ax.axvline(30, ls='--', lw=1, c='k')\n",
    "ax.axvline(70, ls='--', lw=1, c='k')\n",
    "ax.set_title('RSI Distribution with Signal Threshold')\n",
    "sns.despine()\n",
    "plt.tight_layout();"
   ]
  },
  {
   "cell_type": "markdown",
   "metadata": {},
   "source": [
    "### Compute Bollinger Bands"
   ]
  },
  {
   "cell_type": "code",
   "execution_count": 67,
   "metadata": {
    "ExecuteTime": {
     "end_time": "2021-02-25T02:33:53.998945Z",
     "start_time": "2021-02-25T02:33:53.996992Z"
    }
   },
   "outputs": [],
   "source": [
    "def compute_bb(close):\n",
    "    high, mid, low = BBANDS(close, timeperiod=20)\n",
    "    return pd.DataFrame({'bb_high': high, 'bb_low': low}, index=close.index)"
   ]
  },
  {
   "cell_type": "code",
   "execution_count": 68,
   "metadata": {
    "ExecuteTime": {
     "end_time": "2021-02-25T02:34:09.287189Z",
     "start_time": "2021-02-25T02:33:53.999703Z"
    }
   },
   "outputs": [],
   "source": [
    "prices = (prices.join(prices\n",
    "                      .groupby(level='symbol')\n",
    "                      .close\n",
    "                      .apply(compute_bb)))"
   ]
  },
  {
   "cell_type": "code",
   "execution_count": 69,
   "metadata": {
    "ExecuteTime": {
     "end_time": "2021-02-25T02:34:09.333606Z",
     "start_time": "2021-02-25T02:34:09.288161Z"
    }
   },
   "outputs": [],
   "source": [
    "prices['bb_high'] = prices.bb_high.sub(prices.close).div(prices.bb_high).apply(np.log1p)\n",
    "prices['bb_low'] = prices.close.sub(prices.bb_low).div(prices.close).apply(np.log1p)"
   ]
  },
  {
   "cell_type": "code",
   "execution_count": 70,
   "metadata": {
    "ExecuteTime": {
     "end_time": "2021-02-25T02:34:09.629357Z",
     "start_time": "2021-02-25T02:34:09.335771Z"
    },
    "scrolled": true
   },
   "outputs": [
    {
     "data": {
      "image/png": "[encoded data removed]",
      "text/plain": [
       "<Figure size 1080x360 with 2 Axes>"
      ]
     },
     "metadata": {},
     "output_type": "display_data"
    }
   ],
   "source": [
    "fig, axes = plt.subplots(ncols=2, figsize=(15, 5))\n",
    "sns.distplot(prices.loc[prices.dollar_vol_rank<100, 'bb_low'].dropna(), ax=axes[0])\n",
    "sns.distplot(prices.loc[prices.dollar_vol_rank<100, 'bb_high'].dropna(), ax=axes[1])\n",
    "sns.despine()\n",
    "plt.tight_layout();"
   ]
  },
  {
   "cell_type": "markdown",
   "metadata": {},
   "source": [
    "### Compute Average True Range"
   ]
  },
  {
   "cell_type": "code",
   "execution_count": 71,
   "metadata": {
    "ExecuteTime": {
     "end_time": "2021-02-25T02:34:14.101089Z",
     "start_time": "2021-02-25T02:34:09.631132Z"
    }
   },
   "outputs": [],
   "source": [
    "prices['NATR'] = prices.groupby(level='symbol', \n",
    "                                group_keys=False).apply(lambda x: \n",
    "                                                        talib.NATR(x.high, x.low, x.close))"
   ]
  },
  {
   "cell_type": "code",
   "execution_count": 72,
   "metadata": {
    "ExecuteTime": {
     "end_time": "2021-02-25T02:34:14.104983Z",
     "start_time": "2021-02-25T02:34:14.101994Z"
    }
   },
   "outputs": [],
   "source": [
    "def compute_atr(stock_data):\n",
    "    df = ATR(stock_data.high, stock_data.low, \n",
    "             stock_data.close, timeperiod=14)\n",
    "    return df.sub(df.mean()).div(df.std())"
   ]
  },
  {
   "cell_type": "code",
   "execution_count": 73,
   "metadata": {
    "ExecuteTime": {
     "end_time": "2021-02-25T02:34:19.371984Z",
     "start_time": "2021-02-25T02:34:14.106249Z"
    }
   },
   "outputs": [],
   "source": [
    "prices['ATR'] = (prices.groupby('symbol', group_keys=False)\n",
    "                 .apply(compute_atr))"
   ]
  },
  {
   "cell_type": "markdown",
   "metadata": {},
   "source": [
    "### Compute Moving Average Convergence/Divergence"
   ]
  },
  {
   "cell_type": "code",
   "execution_count": 74,
   "metadata": {
    "ExecuteTime": {
     "end_time": "2021-02-25T02:34:30.296463Z",
     "start_time": "2021-02-25T02:34:19.372947Z"
    }
   },
   "outputs": [],
   "source": [
    "prices['PPO'] = prices.groupby(level='symbol').close.apply(talib.PPO)"
   ]
  },
  {
   "cell_type": "code",
   "execution_count": 75,
   "metadata": {
    "ExecuteTime": {
     "end_time": "2021-02-25T02:34:30.300707Z",
     "start_time": "2021-02-25T02:34:30.297511Z"
    }
   },
   "outputs": [],
   "source": [
    "def compute_macd(close):\n",
    "    macd = MACD(close)[0]\n",
    "    return (macd - np.mean(macd))/np.std(macd)"
   ]
  },
  {
   "cell_type": "code",
   "execution_count": 76,
   "metadata": {
    "ExecuteTime": {
     "end_time": "2021-02-25T02:34:41.963633Z",
     "start_time": "2021-02-25T02:34:30.301878Z"
    }
   },
   "outputs": [],
   "source": [
    "prices['MACD'] = (prices\n",
    "                  .groupby('symbol', group_keys=False)\n",
    "                  .close\n",
    "                  .apply(compute_macd))"
   ]
  },
  {
   "cell_type": "markdown",
   "metadata": {},
   "source": [
    "### Combine Price and Meta Data"
   ]
  },
  {
   "cell_type": "code",
   "execution_count": 77,
   "metadata": {
    "ExecuteTime": {
     "end_time": "2021-02-25T02:34:42.032942Z",
     "start_time": "2021-02-25T02:34:41.965666Z"
    }
   },
   "outputs": [],
   "source": [
    "metadata.sector = pd.factorize(metadata.sector)[0].astype(int)\n",
    "prices = prices.join(metadata[['sector']])"
   ]
  },
  {
   "cell_type": "markdown",
   "metadata": {},
   "source": [
    "## Compute Returns"
   ]
  },
  {
   "cell_type": "markdown",
   "metadata": {},
   "source": [
    "### Historical Returns"
   ]
  },
  {
   "cell_type": "code",
   "execution_count": 78,
   "metadata": {
    "ExecuteTime": {
     "end_time": "2021-02-25T02:34:42.804305Z",
     "start_time": "2021-02-25T02:34:42.033855Z"
    }
   },
   "outputs": [],
   "source": [
    "by_sym = prices.groupby(level='symbol').close\n",
    "for t in T:\n",
    "    prices[f'r{t:02}'] = by_sym.pct_change(t)"
   ]
  },
  {
   "cell_type": "markdown",
   "metadata": {},
   "source": [
    "### Daily historical return deciles"
   ]
  },
  {
   "cell_type": "code",
   "execution_count": 83,
   "metadata": {},
   "outputs": [],
   "source": [
    "?pd.qcut"
   ]
  },
  {
   "cell_type": "code",
   "execution_count": 84,
   "metadata": {
    "ExecuteTime": {
     "end_time": "2021-02-25T02:36:01.526052Z",
     "start_time": "2021-02-25T02:34:42.805173Z"
    }
   },
   "outputs": [],
   "source": [
    "for t in T:\n",
    "    prices[f'r{t:02}dec'] = (prices[f'r{t:02}']\n",
    "                             .dropna()\n",
    "                             .groupby(level='date')\n",
    "                             .apply(lambda x: pd.qcut(x, \n",
    "                                                      q=10, \n",
    "                                                      labels=False, \n",
    "                                                      duplicates='drop')))"
   ]
  },
  {
   "cell_type": "markdown",
   "metadata": {},
   "source": [
    "### Daily sector return deciles"
   ]
  },
  {
   "cell_type": "code",
   "execution_count": 85,
   "metadata": {
    "ExecuteTime": {
     "end_time": "2021-02-25T02:38:20.308961Z",
     "start_time": "2021-02-25T02:36:01.527108Z"
    },
    "scrolled": false
   },
   "outputs": [],
   "source": [
    "for t in T:\n",
    "    prices[f'r{t:02}q_sector'] = (prices\n",
    "                                  .dropna()\n",
    "                                  .groupby(['date', 'sector'])[f'r{t:02}']\n",
    "                                  .transform(lambda x: pd.qcut(x, \n",
    "                                                               q=5, \n",
    "                                                               labels=False, \n",
    "                                                               duplicates='drop')))"
   ]
  },
  {
   "cell_type": "markdown",
   "metadata": {},
   "source": [
    "### Compute Forward Returns"
   ]
  },
  {
   "cell_type": "code",
   "execution_count": 86,
   "metadata": {
    "ExecuteTime": {
     "end_time": "2021-02-25T02:38:20.826643Z",
     "start_time": "2021-02-25T02:38:20.309989Z"
    }
   },
   "outputs": [],
   "source": [
    "for t in [1, 5, 21]:\n",
    "    prices[f'r{t:02}_fwd'] = prices.groupby(level='symbol')[f'r{t:02}'].shift(-t)"
   ]
  },
  {
   "cell_type": "markdown",
   "metadata": {},
   "source": [
    "## Remove outliers"
   ]
  },
  {
   "cell_type": "code",
   "execution_count": 87,
   "metadata": {
    "ExecuteTime": {
     "end_time": "2021-02-25T02:38:21.677765Z",
     "start_time": "2021-02-25T02:38:20.827605Z"
    }
   },
   "outputs": [
    {
     "data": {
      "text/html": [
       "<div>\n",
       "<style scoped>\n",
       "    .dataframe tbody tr th:only-of-type {\n",
       "        vertical-align: middle;\n",
       "    }\n",
       "\n",
       "    .dataframe tbody tr th {\n",
       "        vertical-align: top;\n",
       "    }\n",
       "\n",
       "    .dataframe thead th {\n",
       "        text-align: right;\n",
       "    }\n",
       "</style>\n",
       "<table border=\"1\" class=\"dataframe\">\n",
       "  <thead>\n",
       "    <tr style=\"text-align: right;\">\n",
       "      <th></th>\n",
       "      <th>r01</th>\n",
       "      <th>r05</th>\n",
       "      <th>r10</th>\n",
       "      <th>r21</th>\n",
       "      <th>r42</th>\n",
       "      <th>r63</th>\n",
       "    </tr>\n",
       "  </thead>\n",
       "  <tbody>\n",
       "    <tr>\n",
       "      <th>count</th>\n",
       "      <td>2.003775e+06</td>\n",
       "      <td>1.999775e+06</td>\n",
       "      <td>1.994775e+06</td>\n",
       "      <td>1.983775e+06</td>\n",
       "      <td>1.962775e+06</td>\n",
       "      <td>1.941775e+06</td>\n",
       "    </tr>\n",
       "    <tr>\n",
       "      <th>mean</th>\n",
       "      <td>7.519751e-04</td>\n",
       "      <td>3.726962e-03</td>\n",
       "      <td>7.353932e-03</td>\n",
       "      <td>1.555927e-02</td>\n",
       "      <td>3.113691e-02</td>\n",
       "      <td>4.619119e-02</td>\n",
       "    </tr>\n",
       "    <tr>\n",
       "      <th>std</th>\n",
       "      <td>2.166262e-02</td>\n",
       "      <td>4.791746e-02</td>\n",
       "      <td>6.579895e-02</td>\n",
       "      <td>9.467552e-02</td>\n",
       "      <td>1.325751e-01</td>\n",
       "      <td>1.618423e-01</td>\n",
       "    </tr>\n",
       "    <tr>\n",
       "      <th>min</th>\n",
       "      <td>-8.757416e-01</td>\n",
       "      <td>-8.768476e-01</td>\n",
       "      <td>-8.778415e-01</td>\n",
       "      <td>-8.802285e-01</td>\n",
       "      <td>-8.867366e-01</td>\n",
       "      <td>-8.863481e-01</td>\n",
       "    </tr>\n",
       "    <tr>\n",
       "      <th>25%</th>\n",
       "      <td>-8.088407e-03</td>\n",
       "      <td>-1.721664e-02</td>\n",
       "      <td>-2.291896e-02</td>\n",
       "      <td>-3.045918e-02</td>\n",
       "      <td>-3.531712e-02</td>\n",
       "      <td>-3.696833e-02</td>\n",
       "    </tr>\n",
       "    <tr>\n",
       "      <th>50%</th>\n",
       "      <td>6.561680e-04</td>\n",
       "      <td>3.702235e-03</td>\n",
       "      <td>7.173181e-03</td>\n",
       "      <td>1.503253e-02</td>\n",
       "      <td>2.899023e-02</td>\n",
       "      <td>4.217809e-02</td>\n",
       "    </tr>\n",
       "    <tr>\n",
       "      <th>75%</th>\n",
       "      <td>9.509191e-03</td>\n",
       "      <td>2.440601e-02</td>\n",
       "      <td>3.707177e-02</td>\n",
       "      <td>5.927618e-02</td>\n",
       "      <td>9.305628e-02</td>\n",
       "      <td>1.219666e-01</td>\n",
       "    </tr>\n",
       "    <tr>\n",
       "      <th>max</th>\n",
       "      <td>1.216425e+01</td>\n",
       "      <td>1.252657e+01</td>\n",
       "      <td>1.252657e+01</td>\n",
       "      <td>1.252657e+01</td>\n",
       "      <td>1.181643e+01</td>\n",
       "      <td>1.166968e+01</td>\n",
       "    </tr>\n",
       "  </tbody>\n",
       "</table>\n",
       "</div>"
      ],
      "text/plain": [
       "                r01           r05           r10           r21           r42  \\\n",
       "count  2.003775e+06  1.999775e+06  1.994775e+06  1.983775e+06  1.962775e+06   \n",
       "mean   7.519751e-04  3.726962e-03  7.353932e-03  1.555927e-02  3.113691e-02   \n",
       "std    2.166262e-02  4.791746e-02  6.579895e-02  9.467552e-02  1.325751e-01   \n",
       "min   -8.757416e-01 -8.768476e-01 -8.778415e-01 -8.802285e-01 -8.867366e-01   \n",
       "25%   -8.088407e-03 -1.721664e-02 -2.291896e-02 -3.045918e-02 -3.531712e-02   \n",
       "50%    6.561680e-04  3.702235e-03  7.173181e-03  1.503253e-02  2.899023e-02   \n",
       "75%    9.509191e-03  2.440601e-02  3.707177e-02  5.927618e-02  9.305628e-02   \n",
       "max    1.216425e+01  1.252657e+01  1.252657e+01  1.252657e+01  1.181643e+01   \n",
       "\n",
       "                r63  \n",
       "count  1.941775e+06  \n",
       "mean   4.619119e-02  \n",
       "std    1.618423e-01  \n",
       "min   -8.863481e-01  \n",
       "25%   -3.696833e-02  \n",
       "50%    4.217809e-02  \n",
       "75%    1.219666e-01  \n",
       "max    1.166968e+01  "
      ]
     },
     "execution_count": 87,
     "metadata": {},
     "output_type": "execute_result"
    }
   ],
   "source": [
    "prices[[f'r{t:02}' for t in T]].describe()"
   ]
  },
  {
   "cell_type": "markdown",
   "metadata": {},
   "source": [
    "We remove daily returns above 100 percent as these are more likely to represent data errors; we are using the 100 percent cutoff here in a somewhat ad-hoc fashion; you would want to apply more careful exploratory and historical analysis to decide which assets are truly not representative of the sample period."
   ]
  },
  {
   "cell_type": "code",
   "execution_count": 88,
   "metadata": {
    "ExecuteTime": {
     "end_time": "2021-02-25T02:38:21.686263Z",
     "start_time": "2021-02-25T02:38:21.679059Z"
    }
   },
   "outputs": [],
   "source": [
    "outliers = prices[prices.r01 > 1].index.get_level_values('symbol').unique()"
   ]
  },
  {
   "cell_type": "code",
   "execution_count": 89,
   "metadata": {
    "ExecuteTime": {
     "end_time": "2021-02-25T02:38:31.520250Z",
     "start_time": "2021-02-25T02:38:21.687319Z"
    }
   },
   "outputs": [],
   "source": [
    "prices = prices.drop(outliers, level='symbol')"
   ]
  },
  {
   "cell_type": "markdown",
   "metadata": {},
   "source": [
    "## Create time and sector dummy variables"
   ]
  },
  {
   "cell_type": "code",
   "execution_count": 90,
   "metadata": {
    "ExecuteTime": {
     "end_time": "2021-02-25T02:38:31.918710Z",
     "start_time": "2021-02-25T02:38:31.521204Z"
    }
   },
   "outputs": [],
   "source": [
    "prices['year'] = prices.index.get_level_values('date').year\n",
    "prices['month'] = prices.index.get_level_values('date').month\n",
    "prices['weekday'] = prices.index.get_level_values('date').weekday"
   ]
  },
  {
   "cell_type": "markdown",
   "metadata": {},
   "source": [
    "## Store Model Data"
   ]
  },
  {
   "cell_type": "code",
   "execution_count": 91,
   "metadata": {
    "ExecuteTime": {
     "end_time": "2021-02-25T02:38:32.137143Z",
     "start_time": "2021-02-25T02:38:31.920222Z"
    },
    "scrolled": false
   },
   "outputs": [
    {
     "name": "stdout",
     "output_type": "stream",
     "text": [
      "<class 'pandas.core.frame.DataFrame'>\n",
      "MultiIndex: 1994931 entries, ('AAPL', Timestamp('2010-01-04 00:00:00')) to ('NTCT', Timestamp('2017-12-29 00:00:00'))\n",
      "Data columns (total 39 columns):\n",
      " #   Column           Non-Null Count    Dtype  \n",
      "---  ------           --------------    -----  \n",
      " 0   open             1994931 non-null  float64\n",
      " 1   close            1994931 non-null  float64\n",
      " 2   low              1994931 non-null  float64\n",
      " 3   high             1994931 non-null  float64\n",
      " 4   volume           1994931 non-null  float64\n",
      " 5   dollar_vol       1994931 non-null  float64\n",
      " 6   dollar_vol_rank  1994931 non-null  float64\n",
      " 7   rsi              1981001 non-null  float64\n",
      " 8   bb_high          1976026 non-null  float64\n",
      " 9   bb_low           1976022 non-null  float64\n",
      " 10  NATR             1981001 non-null  float64\n",
      " 11  ATR              1981001 non-null  float64\n",
      " 12  PPO              1970056 non-null  float64\n",
      " 13  MACD             1962096 non-null  float64\n",
      " 14  sector           1994931 non-null  int32  \n",
      " 15  r01              1993936 non-null  float64\n",
      " 16  r05              1989956 non-null  float64\n",
      " 17  r10              1984981 non-null  float64\n",
      " 18  r21              1974036 non-null  float64\n",
      " 19  r42              1953141 non-null  float64\n",
      " 20  r63              1932246 non-null  float64\n",
      " 21  r01dec           1993933 non-null  float64\n",
      " 22  r05dec           1989956 non-null  float64\n",
      " 23  r10dec           1984981 non-null  float64\n",
      " 24  r21dec           1974036 non-null  float64\n",
      " 25  r42dec           1953141 non-null  float64\n",
      " 26  r63dec           1932246 non-null  float64\n",
      " 27  r01q_sector      1932239 non-null  float64\n",
      " 28  r05q_sector      1932239 non-null  float64\n",
      " 29  r10q_sector      1932239 non-null  float64\n",
      " 30  r21q_sector      1932239 non-null  float64\n",
      " 31  r42q_sector      1932239 non-null  float64\n",
      " 32  r63q_sector      1932239 non-null  float64\n",
      " 33  r01_fwd          1993936 non-null  float64\n",
      " 34  r05_fwd          1989956 non-null  float64\n",
      " 35  r21_fwd          1974036 non-null  float64\n",
      " 36  year             1994931 non-null  int64  \n",
      " 37  month            1994931 non-null  int64  \n",
      " 38  weekday          1994931 non-null  int64  \n",
      "dtypes: float64(35), int32(1), int64(3)\n",
      "memory usage: 594.3+ MB\n"
     ]
    }
   ],
   "source": [
    "prices.info(show_counts=True)"
   ]
  },
  {
   "cell_type": "code",
   "execution_count": 95,
   "metadata": {
    "ExecuteTime": {
     "end_time": "2021-02-25T02:38:32.822413Z",
     "start_time": "2021-02-25T02:38:32.138150Z"
    }
   },
   "outputs": [],
   "source": [
    "prices.drop(['open', 'close', 'low', 'high', 'volume'], axis=1).dropna().to_hdf('data.h5', 'model_data')"
   ]
  },
  {
   "cell_type": "code",
   "execution_count": 94,
   "metadata": {},
   "outputs": [
    {
     "data": {
      "text/html": [
       "<div>\n",
       "<style scoped>\n",
       "    .dataframe tbody tr th:only-of-type {\n",
       "        vertical-align: middle;\n",
       "    }\n",
       "\n",
       "    .dataframe tbody tr th {\n",
       "        vertical-align: top;\n",
       "    }\n",
       "\n",
       "    .dataframe thead th {\n",
       "        text-align: right;\n",
       "    }\n",
       "</style>\n",
       "<table border=\"1\" class=\"dataframe\">\n",
       "  <thead>\n",
       "    <tr style=\"text-align: right;\">\n",
       "      <th></th>\n",
       "      <th></th>\n",
       "      <th>dollar_vol</th>\n",
       "      <th>dollar_vol_rank</th>\n",
       "      <th>rsi</th>\n",
       "      <th>bb_high</th>\n",
       "      <th>bb_low</th>\n",
       "      <th>NATR</th>\n",
       "      <th>ATR</th>\n",
       "      <th>PPO</th>\n",
       "      <th>MACD</th>\n",
       "      <th>sector</th>\n",
       "      <th>...</th>\n",
       "      <th>r10q_sector</th>\n",
       "      <th>r21q_sector</th>\n",
       "      <th>r42q_sector</th>\n",
       "      <th>r63q_sector</th>\n",
       "      <th>r01_fwd</th>\n",
       "      <th>r05_fwd</th>\n",
       "      <th>r21_fwd</th>\n",
       "      <th>year</th>\n",
       "      <th>month</th>\n",
       "      <th>weekday</th>\n",
       "    </tr>\n",
       "    <tr>\n",
       "      <th>symbol</th>\n",
       "      <th>date</th>\n",
       "      <th></th>\n",
       "      <th></th>\n",
       "      <th></th>\n",
       "      <th></th>\n",
       "      <th></th>\n",
       "      <th></th>\n",
       "      <th></th>\n",
       "      <th></th>\n",
       "      <th></th>\n",
       "      <th></th>\n",
       "      <th></th>\n",
       "      <th></th>\n",
       "      <th></th>\n",
       "      <th></th>\n",
       "      <th></th>\n",
       "      <th></th>\n",
       "      <th></th>\n",
       "      <th></th>\n",
       "      <th></th>\n",
       "      <th></th>\n",
       "      <th></th>\n",
       "    </tr>\n",
       "  </thead>\n",
       "  <tbody>\n",
       "    <tr>\n",
       "      <th rowspan=\"5\" valign=\"top\">AAPL</th>\n",
       "      <th>2010-04-06</th>\n",
       "      <td>3440.269921</td>\n",
       "      <td>1.0</td>\n",
       "      <td>76.171943</td>\n",
       "      <td>0.000158</td>\n",
       "      <td>0.085816</td>\n",
       "      <td>1.705289</td>\n",
       "      <td>-1.660197</td>\n",
       "      <td>2.901990</td>\n",
       "      <td>0.237436</td>\n",
       "      <td>0</td>\n",
       "      <td>...</td>\n",
       "      <td>4.0</td>\n",
       "      <td>4.0</td>\n",
       "      <td>4.0</td>\n",
       "      <td>4.0</td>\n",
       "      <td>0.004425</td>\n",
       "      <td>0.012065</td>\n",
       "      <td>0.068652</td>\n",
       "      <td>2010</td>\n",
       "      <td>4</td>\n",
       "      <td>1</td>\n",
       "    </tr>\n",
       "    <tr>\n",
       "      <th>2010-04-07</th>\n",
       "      <td>4858.391701</td>\n",
       "      <td>1.0</td>\n",
       "      <td>77.067107</td>\n",
       "      <td>0.002727</td>\n",
       "      <td>0.089198</td>\n",
       "      <td>1.673286</td>\n",
       "      <td>-1.671643</td>\n",
       "      <td>3.024886</td>\n",
       "      <td>0.249709</td>\n",
       "      <td>0</td>\n",
       "      <td>...</td>\n",
       "      <td>4.0</td>\n",
       "      <td>4.0</td>\n",
       "      <td>4.0</td>\n",
       "      <td>4.0</td>\n",
       "      <td>-0.002702</td>\n",
       "      <td>0.021155</td>\n",
       "      <td>0.023483</td>\n",
       "      <td>2010</td>\n",
       "      <td>4</td>\n",
       "      <td>2</td>\n",
       "    </tr>\n",
       "    <tr>\n",
       "      <th>2010-04-08</th>\n",
       "      <td>4417.305436</td>\n",
       "      <td>1.0</td>\n",
       "      <td>75.201448</td>\n",
       "      <td>0.010880</td>\n",
       "      <td>0.086315</td>\n",
       "      <td>1.662163</td>\n",
       "      <td>-1.678940</td>\n",
       "      <td>3.039976</td>\n",
       "      <td>0.248179</td>\n",
       "      <td>0</td>\n",
       "      <td>...</td>\n",
       "      <td>4.0</td>\n",
       "      <td>4.0</td>\n",
       "      <td>4.0</td>\n",
       "      <td>4.0</td>\n",
       "      <td>0.007668</td>\n",
       "      <td>0.037383</td>\n",
       "      <td>-0.017045</td>\n",
       "      <td>2010</td>\n",
       "      <td>4</td>\n",
       "      <td>3</td>\n",
       "    </tr>\n",
       "    <tr>\n",
       "      <th>2010-04-09</th>\n",
       "      <td>2596.047700</td>\n",
       "      <td>1.0</td>\n",
       "      <td>76.905786</td>\n",
       "      <td>0.009587</td>\n",
       "      <td>0.092303</td>\n",
       "      <td>1.589002</td>\n",
       "      <td>-1.707360</td>\n",
       "      <td>2.966863</td>\n",
       "      <td>0.252797</td>\n",
       "      <td>0</td>\n",
       "      <td>...</td>\n",
       "      <td>4.0</td>\n",
       "      <td>4.0</td>\n",
       "      <td>4.0</td>\n",
       "      <td>4.0</td>\n",
       "      <td>0.002068</td>\n",
       "      <td>0.023202</td>\n",
       "      <td>0.050457</td>\n",
       "      <td>2010</td>\n",
       "      <td>4</td>\n",
       "      <td>4</td>\n",
       "    </tr>\n",
       "    <tr>\n",
       "      <th>2010-04-12</th>\n",
       "      <td>2592.414201</td>\n",
       "      <td>1.0</td>\n",
       "      <td>77.361110</td>\n",
       "      <td>0.013334</td>\n",
       "      <td>0.093534</td>\n",
       "      <td>1.510192</td>\n",
       "      <td>-1.742908</td>\n",
       "      <td>2.891208</td>\n",
       "      <td>0.253061</td>\n",
       "      <td>0</td>\n",
       "      <td>...</td>\n",
       "      <td>3.0</td>\n",
       "      <td>4.0</td>\n",
       "      <td>4.0</td>\n",
       "      <td>4.0</td>\n",
       "      <td>0.000578</td>\n",
       "      <td>0.019728</td>\n",
       "      <td>0.058731</td>\n",
       "      <td>2010</td>\n",
       "      <td>4</td>\n",
       "      <td>0</td>\n",
       "    </tr>\n",
       "    <tr>\n",
       "      <th>...</th>\n",
       "      <th>...</th>\n",
       "      <td>...</td>\n",
       "      <td>...</td>\n",
       "      <td>...</td>\n",
       "      <td>...</td>\n",
       "      <td>...</td>\n",
       "      <td>...</td>\n",
       "      <td>...</td>\n",
       "      <td>...</td>\n",
       "      <td>...</td>\n",
       "      <td>...</td>\n",
       "      <td>...</td>\n",
       "      <td>...</td>\n",
       "      <td>...</td>\n",
       "      <td>...</td>\n",
       "      <td>...</td>\n",
       "      <td>...</td>\n",
       "      <td>...</td>\n",
       "      <td>...</td>\n",
       "      <td>...</td>\n",
       "      <td>...</td>\n",
       "      <td>...</td>\n",
       "    </tr>\n",
       "    <tr>\n",
       "      <th rowspan=\"5\" valign=\"top\">NTCT</th>\n",
       "      <th>2017-11-22</th>\n",
       "      <td>40.509124</td>\n",
       "      <td>728.0</td>\n",
       "      <td>54.248855</td>\n",
       "      <td>0.010872</td>\n",
       "      <td>0.091490</td>\n",
       "      <td>2.938380</td>\n",
       "      <td>0.281269</td>\n",
       "      <td>-0.772255</td>\n",
       "      <td>-0.400143</td>\n",
       "      <td>0</td>\n",
       "      <td>...</td>\n",
       "      <td>3.0</td>\n",
       "      <td>1.0</td>\n",
       "      <td>0.0</td>\n",
       "      <td>0.0</td>\n",
       "      <td>0.008197</td>\n",
       "      <td>0.018033</td>\n",
       "      <td>0.034426</td>\n",
       "      <td>2017</td>\n",
       "      <td>11</td>\n",
       "      <td>2</td>\n",
       "    </tr>\n",
       "    <tr>\n",
       "      <th>2017-11-24</th>\n",
       "      <td>6.820658</td>\n",
       "      <td>726.0</td>\n",
       "      <td>56.331773</td>\n",
       "      <td>0.006349</td>\n",
       "      <td>0.099797</td>\n",
       "      <td>2.851493</td>\n",
       "      <td>0.197562</td>\n",
       "      <td>-0.288642</td>\n",
       "      <td>-0.265811</td>\n",
       "      <td>0</td>\n",
       "      <td>...</td>\n",
       "      <td>4.0</td>\n",
       "      <td>1.0</td>\n",
       "      <td>0.0</td>\n",
       "      <td>0.0</td>\n",
       "      <td>-0.001626</td>\n",
       "      <td>0.014634</td>\n",
       "      <td>0.009756</td>\n",
       "      <td>2017</td>\n",
       "      <td>11</td>\n",
       "      <td>4</td>\n",
       "    </tr>\n",
       "    <tr>\n",
       "      <th>2017-11-27</th>\n",
       "      <td>32.754413</td>\n",
       "      <td>733.0</td>\n",
       "      <td>55.784757</td>\n",
       "      <td>0.013528</td>\n",
       "      <td>0.100004</td>\n",
       "      <td>2.826627</td>\n",
       "      <td>0.158415</td>\n",
       "      <td>0.335476</td>\n",
       "      <td>-0.164322</td>\n",
       "      <td>0</td>\n",
       "      <td>...</td>\n",
       "      <td>4.0</td>\n",
       "      <td>1.0</td>\n",
       "      <td>0.0</td>\n",
       "      <td>0.0</td>\n",
       "      <td>0.021173</td>\n",
       "      <td>0.013029</td>\n",
       "      <td>0.011401</td>\n",
       "      <td>2017</td>\n",
       "      <td>11</td>\n",
       "      <td>0</td>\n",
       "    </tr>\n",
       "    <tr>\n",
       "      <th>2017-11-28</th>\n",
       "      <td>41.827483</td>\n",
       "      <td>742.0</td>\n",
       "      <td>61.076373</td>\n",
       "      <td>0.001626</td>\n",
       "      <td>0.115152</td>\n",
       "      <td>2.826627</td>\n",
       "      <td>0.237807</td>\n",
       "      <td>1.055797</td>\n",
       "      <td>-0.007658</td>\n",
       "      <td>0</td>\n",
       "      <td>...</td>\n",
       "      <td>4.0</td>\n",
       "      <td>3.0</td>\n",
       "      <td>0.0</td>\n",
       "      <td>0.0</td>\n",
       "      <td>0.009569</td>\n",
       "      <td>-0.035088</td>\n",
       "      <td>-0.022329</td>\n",
       "      <td>2017</td>\n",
       "      <td>11</td>\n",
       "      <td>1</td>\n",
       "    </tr>\n",
       "    <tr>\n",
       "      <th>2017-11-29</th>\n",
       "      <td>53.458148</td>\n",
       "      <td>737.0</td>\n",
       "      <td>63.261755</td>\n",
       "      <td>0.001379</td>\n",
       "      <td>0.120797</td>\n",
       "      <td>2.791677</td>\n",
       "      <td>0.226650</td>\n",
       "      <td>1.854554</td>\n",
       "      <td>0.149418</td>\n",
       "      <td>0</td>\n",
       "      <td>...</td>\n",
       "      <td>4.0</td>\n",
       "      <td>4.0</td>\n",
       "      <td>0.0</td>\n",
       "      <td>0.0</td>\n",
       "      <td>-0.018957</td>\n",
       "      <td>-0.074250</td>\n",
       "      <td>-0.037915</td>\n",
       "      <td>2017</td>\n",
       "      <td>11</td>\n",
       "      <td>2</td>\n",
       "    </tr>\n",
       "  </tbody>\n",
       "</table>\n",
       "<p>1911344 rows × 34 columns</p>\n",
       "</div>"
      ],
      "text/plain": [
       "                    dollar_vol  dollar_vol_rank        rsi   bb_high  \\\n",
       "symbol date                                                            \n",
       "AAPL   2010-04-06  3440.269921              1.0  76.171943  0.000158   \n",
       "       2010-04-07  4858.391701              1.0  77.067107  0.002727   \n",
       "       2010-04-08  4417.305436              1.0  75.201448  0.010880   \n",
       "       2010-04-09  2596.047700              1.0  76.905786  0.009587   \n",
       "       2010-04-12  2592.414201              1.0  77.361110  0.013334   \n",
       "...                        ...              ...        ...       ...   \n",
       "NTCT   2017-11-22    40.509124            728.0  54.248855  0.010872   \n",
       "       2017-11-24     6.820658            726.0  56.331773  0.006349   \n",
       "       2017-11-27    32.754413            733.0  55.784757  0.013528   \n",
       "       2017-11-28    41.827483            742.0  61.076373  0.001626   \n",
       "       2017-11-29    53.458148            737.0  63.261755  0.001379   \n",
       "\n",
       "                     bb_low      NATR       ATR       PPO      MACD  sector  \\\n",
       "symbol date                                                                   \n",
       "AAPL   2010-04-06  0.085816  1.705289 -1.660197  2.901990  0.237436       0   \n",
       "       2010-04-07  0.089198  1.673286 -1.671643  3.024886  0.249709       0   \n",
       "       2010-04-08  0.086315  1.662163 -1.678940  3.039976  0.248179       0   \n",
       "       2010-04-09  0.092303  1.589002 -1.707360  2.966863  0.252797       0   \n",
       "       2010-04-12  0.093534  1.510192 -1.742908  2.891208  0.253061       0   \n",
       "...                     ...       ...       ...       ...       ...     ...   \n",
       "NTCT   2017-11-22  0.091490  2.938380  0.281269 -0.772255 -0.400143       0   \n",
       "       2017-11-24  0.099797  2.851493  0.197562 -0.288642 -0.265811       0   \n",
       "       2017-11-27  0.100004  2.826627  0.158415  0.335476 -0.164322       0   \n",
       "       2017-11-28  0.115152  2.826627  0.237807  1.055797 -0.007658       0   \n",
       "       2017-11-29  0.120797  2.791677  0.226650  1.854554  0.149418       0   \n",
       "\n",
       "                   ...  r10q_sector  r21q_sector  r42q_sector  r63q_sector  \\\n",
       "symbol date        ...                                                       \n",
       "AAPL   2010-04-06  ...          4.0          4.0          4.0          4.0   \n",
       "       2010-04-07  ...          4.0          4.0          4.0          4.0   \n",
       "       2010-04-08  ...          4.0          4.0          4.0          4.0   \n",
       "       2010-04-09  ...          4.0          4.0          4.0          4.0   \n",
       "       2010-04-12  ...          3.0          4.0          4.0          4.0   \n",
       "...                ...          ...          ...          ...          ...   \n",
       "NTCT   2017-11-22  ...          3.0          1.0          0.0          0.0   \n",
       "       2017-11-24  ...          4.0          1.0          0.0          0.0   \n",
       "       2017-11-27  ...          4.0          1.0          0.0          0.0   \n",
       "       2017-11-28  ...          4.0          3.0          0.0          0.0   \n",
       "       2017-11-29  ...          4.0          4.0          0.0          0.0   \n",
       "\n",
       "                    r01_fwd   r05_fwd   r21_fwd  year  month  weekday  \n",
       "symbol date                                                            \n",
       "AAPL   2010-04-06  0.004425  0.012065  0.068652  2010      4        1  \n",
       "       2010-04-07 -0.002702  0.021155  0.023483  2010      4        2  \n",
       "       2010-04-08  0.007668  0.037383 -0.017045  2010      4        3  \n",
       "       2010-04-09  0.002068  0.023202  0.050457  2010      4        4  \n",
       "       2010-04-12  0.000578  0.019728  0.058731  2010      4        0  \n",
       "...                     ...       ...       ...   ...    ...      ...  \n",
       "NTCT   2017-11-22  0.008197  0.018033  0.034426  2017     11        2  \n",
       "       2017-11-24 -0.001626  0.014634  0.009756  2017     11        4  \n",
       "       2017-11-27  0.021173  0.013029  0.011401  2017     11        0  \n",
       "       2017-11-28  0.009569 -0.035088 -0.022329  2017     11        1  \n",
       "       2017-11-29 -0.018957 -0.074250 -0.037915  2017     11        2  \n",
       "\n",
       "[1911344 rows x 34 columns]"
      ]
     },
     "execution_count": 94,
     "metadata": {},
     "output_type": "execute_result"
    }
   ],
   "source": [
    "prices.drop(['open', 'close', 'low', 'high', 'volume'], axis=1).dropna()"
   ]
  },
  {
   "cell_type": "code",
   "execution_count": null,
   "metadata": {},
   "outputs": [],
   "source": []
  }
 ],
 "metadata": {
  "kernelspec": {
   "display_name": "Python 3 (ipykernel)",
   "language": "python",
   "name": "python3"
  },
  "language_info": {
   "codemirror_mode": {
    "name": "ipython",
    "version": 3
   },
   "file_extension": ".py",
   "mimetype": "text/x-python",
   "name": "python",
   "nbconvert_exporter": "python",
   "pygments_lexer": "ipython3",
   "version": "3.9.12"
  },
  "toc": {
   "base_numbering": 1,
   "nav_menu": {},
   "number_sections": true,
   "sideBar": true,
   "skip_h1_title": true,
   "title_cell": "Table of Contents",
   "title_sidebar": "Contents",
   "toc_cell": false,
   "toc_position": {},
   "toc_section_display": true,
   "toc_window_display": true
  }
 },
 "nbformat": 4,
 "nbformat_minor": 2
}
